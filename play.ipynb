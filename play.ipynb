{
 "metadata": {
  "language_info": {
   "codemirror_mode": {
    "name": "ipython",
    "version": 3
   },
   "file_extension": ".py",
   "mimetype": "text/x-python",
   "name": "python",
   "nbconvert_exporter": "python",
   "pygments_lexer": "ipython3",
   "version": "3.7.6"
  },
  "orig_nbformat": 2,
  "kernelspec": {
   "name": "python376jvsc74a57bd09913f90b107b1b695fe4fd7d22f744ec29cf5ec5efeaf63f9e87058f1fc03ae2",
   "display_name": "Python 3.7.6 64-bit (conda)"
  }
 },
 "nbformat": 4,
 "nbformat_minor": 2,
 "cells": [
  {
   "cell_type": "code",
   "execution_count": 1,
   "metadata": {},
   "outputs": [],
   "source": [
    "import numpy as np\n",
    "from fxpmath import Fxp"
   ]
  },
  {
   "cell_type": "code",
   "execution_count": 20,
   "metadata": {},
   "outputs": [
    {
     "output_type": "stream",
     "name": "stdout",
     "text": [
      "14 3 0.125\n14 3 0.125\n14 3 0.125\n14 3 0.125\n"
     ]
    }
   ],
   "source": [
    "class myfi(np.ndarray):\n",
    "    def __new__(cls, input_array, signed=1, w=32, f=16, rounding='nearest', overflow='wrap', like=None): \n",
    "        ndarray = np.asarray(input_array).view(cls)   \n",
    "        if isinstance(like, myfi):\n",
    "            ndarray.config(like.rounding, like.overflow)\n",
    "            ndarray.resize(like.signed, like.w, like.f)            \n",
    "        else:     \n",
    "            ndarray.config(rounding, overflow)                         \n",
    "            ndarray.resize(signed, w, f)            \n",
    "        return ndarray\n",
    "\n",
    "    def __getitem__(self, key):\n",
    "        # let single element index of array return myfi with shape (1,) instead of base dtype element\n",
    "        return myfi(super().__getitem__(key),like=self)\n",
    "\n",
    "    def resize(self, signed, w, f):\n",
    "        self.signed = signed\n",
    "        self.w = w\n",
    "        self.f = f\n",
    "        self.precision = 2**-self.f\n",
    "        self.upper = 2**(self.w - self.f - (1 if self.signed else 0)) - self.precision \n",
    "        self.lower = -2**(self.w-self.f-1) if self.signed else 0     \n",
    "        self._quantize()\n",
    "\n",
    "    def config(self, rounding, overflow):\n",
    "        self.rounding = rounding\n",
    "        self.overflow = overflow\n",
    "\n",
    "    def _quantize(self):        \n",
    "        # TODO: unsigned\n",
    "        b = self * (2**self.f)\n",
    "        if self.rounding == 'nearest':\n",
    "            store_int = np.round(b)\n",
    "        elif self.rounding == 'floor':\n",
    "            store_int = np.floor(b)\n",
    "        else:\n",
    "            raise ValueError(f'not support rounding method {self.rounding}')\n",
    "        self[...] = store_int*self.precision # this will only reassgin array value, instead of create new myfi instance\n",
    "\n",
    "    @property\n",
    "    def int(self):\n",
    "        return (np.asarray(self)*2**self.f).astype(int) # return normal ndarray\n",
    "\n",
    "    def base_repr(self, base=2, frac_point=False): # return ndarray with same shape and dtype = '<Uw' where w=self.w\n",
    "        if base == 2:\n",
    "            add_point = lambda s: s[:-self.f] + '.' + s[-self.f:] if frac_point else s\n",
    "            func = lambda i: add_point(np.binary_repr(i,width=self.w))    \n",
    "        else:\n",
    "            func = lambda i: np.base_repr(i,base=base)\n",
    "        return np.vectorize(func)(self.int)\n",
    "    @property\n",
    "    def bin(self): \n",
    "        return self.base_repr(2)\n",
    "    @property \n",
    "    def bin_(self):\n",
    "        return self.base_repr(2,frac_point=True)\n",
    "    @property\n",
    "    def hex(self):\n",
    "        return self.base_repr(16)\n",
    "        \n",
    "\n",
    "    #TODO: __add__ __radd__ __iadd__ sub/mul/div/ge/gr/le/etc...\n",
    "    #TODO: over/underflow\n",
    "    #TODO: casting\n",
    "\n",
    "\n",
    "x = np.zeros((3,2,2))\n",
    "y = myfi(x,1,14,3) # call __new__ and __array_finalize__\n",
    "print(y.w,y.f,y.precision)\n",
    "z = y[1:]\n",
    "print(z.w,z.f,z.precision)\n",
    "q = myfi(x,like=y)\n",
    "print(q.w,q.f,q.precision)\n",
    "w = y[1,1,1]\n",
    "print(w.w,w.f,w.precision)\n",
    "# y[1,1,1] # call __array_finalize__\n",
    "# x.view(myfi) # call __array_fianlize__"
   ]
  },
  {
   "cell_type": "code",
   "execution_count": 21,
   "metadata": {},
   "outputs": [
    {
     "output_type": "execute_result",
     "data": {
      "text/plain": [
       "myfi([3.625])"
      ]
     },
     "metadata": {},
     "execution_count": 21
    }
   ],
   "source": [
    "myfi([3.618],1,13,3)"
   ]
  },
  {
   "cell_type": "code",
   "execution_count": null,
   "metadata": {},
   "outputs": [],
   "source": []
  }
 ]
}