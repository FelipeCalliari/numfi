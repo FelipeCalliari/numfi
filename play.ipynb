{
 "metadata": {
  "language_info": {
   "codemirror_mode": {
    "name": "ipython",
    "version": 3
   },
   "file_extension": ".py",
   "mimetype": "text/x-python",
   "name": "python",
   "nbconvert_exporter": "python",
   "pygments_lexer": "ipython3",
   "version": "3.9.5"
  },
  "orig_nbformat": 2,
  "kernelspec": {
   "name": "python395jvsc74a57bd05f3afa2b105d207abad27474a62af0ce3dc7afbb9f1d9ed4220d4e535b248dc5",
   "display_name": "Python 3.9.5 64-bit"
  }
 },
 "nbformat": 4,
 "nbformat_minor": 2,
 "cells": [
  {
   "cell_type": "code",
   "execution_count": 1,
   "metadata": {},
   "outputs": [],
   "source": [
    "%load_ext line_profiler\n",
    "import numpy as np\n",
    "from fxpmath import Fxp\n",
    "from numfi import numfi"
   ]
  },
  {
   "cell_type": "code",
   "execution_count": 6,
   "metadata": {},
   "outputs": [
    {
     "output_type": "execute_result",
     "data": {
      "text/plain": [
       "numfi-s128/60: array([ 1.,  4., -8.])"
      ]
     },
     "metadata": {},
     "execution_count": 6
    }
   ],
   "source": [
    "numfi([1,2,3],1,64,30) * np.array([1,2,3])"
   ]
  },
  {
   "cell_type": "code",
   "execution_count": 2,
   "metadata": {},
   "outputs": [],
   "source": [
    "x = np.random.rand(100000)\n",
    "y = np.random.rand(100000)\n",
    "s,w,f = 1,16,8\n",
    "nx = numfi(x,s,w,f)\n",
    "ny = numfi(y,s,w,f)\n",
    "fx = Fxp(x,s,w,f,rounding='around')\n",
    "fy = Fxp(y,s,w,f,rounding='around')"
   ]
  },
  {
   "cell_type": "code",
   "execution_count": 3,
   "metadata": {},
   "outputs": [
    {
     "output_type": "stream",
     "name": "stdout",
     "text": [
      "72.6 µs ± 1.6 µs per loop (mean ± std. dev. of 7 runs, 10000 loops each)\n",
      "79.8 ms ± 2.92 ms per loop (mean ± std. dev. of 7 runs, 10 loops each)\n"
     ]
    }
   ],
   "source": [
    "%timeit nx + np.pi # 78.5 us\n",
    "%timeit fx + np.pi # 83.8 ms\n",
    "# matlab: 27.8616 ms"
   ]
  },
  {
   "cell_type": "code",
   "execution_count": 4,
   "metadata": {},
   "outputs": [
    {
     "output_type": "stream",
     "name": "stdout",
     "text": [
      "3.02 ms ± 218 µs per loop (mean ± std. dev. of 7 runs, 100 loops each)\n",
      "159 ms ± 1.86 ms per loop (mean ± std. dev. of 7 runs, 10 loops each)\n"
     ]
    }
   ],
   "source": [
    "%timeit nx + x # 3.43 ms\n",
    "%timeit fx + x # 157ms\n",
    "# matlab: 37.8935 ms"
   ]
  },
  {
   "cell_type": "code",
   "execution_count": 5,
   "metadata": {},
   "outputs": [
    {
     "output_type": "stream",
     "name": "stdout",
     "text": [
      "61.8 µs ± 1.93 µs per loop (mean ± std. dev. of 7 runs, 10000 loops each)\n",
      "79.7 ms ± 1.34 ms per loop (mean ± std. dev. of 7 runs, 10 loops each)\n"
     ]
    }
   ],
   "source": [
    "%timeit nx + ny # 61.8 us\n",
    "%timeit fx + fy # 79.7 ms\n",
    "# matlab: 27.8714 ms"
   ]
  },
  {
   "cell_type": "code",
   "execution_count": 6,
   "metadata": {},
   "outputs": [
    {
     "output_type": "stream",
     "name": "stdout",
     "text": [
      "3.25 ms ± 127 µs per loop (mean ± std. dev. of 7 runs, 100 loops each)\n",
      "84.5 ms ± 1.89 ms per loop (mean ± std. dev. of 7 runs, 10 loops each)\n"
     ]
    }
   ],
   "source": [
    "%timeit nx * np.pi # 3.25 ms\n",
    "%timeit fx * np.pi # 84.5 ms\n",
    "# matlab: 18.3537 ms"
   ]
  },
  {
   "cell_type": "code",
   "execution_count": 7,
   "metadata": {},
   "outputs": [
    {
     "output_type": "stream",
     "name": "stdout",
     "text": [
      "5.64 ms ± 476 µs per loop (mean ± std. dev. of 7 runs, 100 loops each)\n",
      "173 ms ± 13 ms per loop (mean ± std. dev. of 7 runs, 10 loops each)\n"
     ]
    }
   ],
   "source": [
    "%timeit nx * x # 5.64 ms\n",
    "%timeit fx * x # 173 ms\n",
    "# matlab: 28.5781 ms"
   ]
  },
  {
   "cell_type": "code",
   "execution_count": 8,
   "metadata": {},
   "outputs": [
    {
     "output_type": "stream",
     "name": "stdout",
     "text": [
      "2.54 ms ± 151 µs per loop (mean ± std. dev. of 7 runs, 100 loops each)\n",
      "90.6 ms ± 6.53 ms per loop (mean ± std. dev. of 7 runs, 10 loops each)\n"
     ]
    }
   ],
   "source": [
    "%timeit nx * ny # 2.54 ms\n",
    "%timeit fx * fy # 90.6 ms\n",
    "# matlab: 19.9516 ms"
   ]
  },
  {
   "cell_type": "code",
   "execution_count": null,
   "metadata": {},
   "outputs": [],
   "source": []
  }
 ]
}