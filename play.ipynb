{
 "metadata": {
  "language_info": {
   "codemirror_mode": {
    "name": "ipython",
    "version": 3
   },
   "file_extension": ".py",
   "mimetype": "text/x-python",
   "name": "python",
   "nbconvert_exporter": "python",
   "pygments_lexer": "ipython3",
   "version": "3.7.6"
  },
  "orig_nbformat": 2,
  "kernelspec": {
   "name": "python376jvsc74a57bd09913f90b107b1b695fe4fd7d22f744ec29cf5ec5efeaf63f9e87058f1fc03ae2",
   "display_name": "Python 3.7.6 64-bit (conda)"
  }
 },
 "nbformat": 4,
 "nbformat_minor": 2,
 "cells": [
  {
   "cell_type": "code",
   "execution_count": 4,
   "metadata": {},
   "outputs": [],
   "source": [
    "import numpy as np\n",
    "from fxpmath import Fxp"
   ]
  },
  {
   "cell_type": "code",
   "execution_count": 38,
   "metadata": {},
   "outputs": [
    {
     "output_type": "stream",
     "name": "stdout",
     "text": [
      "Q: 12\n14 3 0.125\nQ: 8\n14 3 0.125\nQ: 12\n14 3 0.125\nQ: 1\n14 3 0.125\n"
     ]
    }
   ],
   "source": [
    "class myfi(np.ndarray):\n",
    "    def __new__(cls, input_array, signed=1, w=32, f=16, like=None, quantize=True, **kwargs): \n",
    "        ndarray = np.asarray(input_array).view(cls)\n",
    "        if isinstance(like, myfi):\n",
    "            ndarray.config(like.kwargs)\n",
    "            ndarray.resize(like.signed, like.w, like.f, quantize)            \n",
    "        else:     \n",
    "            ndarray.config(kwargs)                       \n",
    "            ndarray.resize(signed, w, f, quantize)            \n",
    "        return ndarray\n",
    "\n",
    "    def resize(self, signed, w, f, quantize=True):\n",
    "        self.signed = signed\n",
    "        self.w = w\n",
    "        self.f = f\n",
    "        self.i = w-f\n",
    "        if self.w < self.f:\n",
    "            raise ValueError(\"fraction length > word length is not support\")\n",
    "        self.precision = 2**-self.f\n",
    "        upper = 2**(self.w - self.f - (1 if self.signed else 0))\n",
    "        self.upper = upper - self.precision \n",
    "        self.lower = -2**(self.w-self.f-1) if self.signed else 0    \n",
    "        \n",
    "        if quantize:\n",
    "            self.quantize() \n",
    "        return self\n",
    "\n",
    "    def quantize(self):\n",
    "        print(f'Q: {self.size}')\n",
    "        b = self.ndarray * (2**self.f)\n",
    "        if self.rounding == 'nearest':\n",
    "            store_int = np.round(b)\n",
    "        elif self.rounding == 'floor':\n",
    "            store_int = np.floor(b)\n",
    "        else:\n",
    "            raise ValueError(f'not support rounding method {self.rounding}')\n",
    "        # overflow/underflow\n",
    "        if self.overflow == 'warp':\n",
    "            m = (1 << self.w)\n",
    "            if signed: \n",
    "                store_int &= (m - 1) \n",
    "                store_int[store_int>(1 << (self.w-1))] |= (-m)\n",
    "            else: \n",
    "                store_int &= (m - 1) \n",
    "            self[...] = store_int*self.precision # this will only reassgin array value, instead of create new myfi instance\n",
    "        elif self.overflow == 'saturate':\n",
    "            self[...] = store_int*self.precision\n",
    "            self[self>self.upper] = self.upper  # np.clip(self,self.upper,self.lower,out=self) will do the same job, but slower\n",
    "            self[self<self.lower] = self.lower\n",
    "\n",
    "    def config(self, kwargs):\n",
    "        self.rounding = kwargs.get('rounding', 'nearest')\n",
    "        self.overflow = kwargs.get('overflow', 'warp')\n",
    "        self.fixed = kwargs.get('fixed', False)\n",
    "\n",
    "    @property\n",
    "    def ndarray(self):\n",
    "        return self.view(np.ndarray)\n",
    "    @property\n",
    "    def int(self):\n",
    "        return (self.ndarray*2**self.f).astype(int) # return normal ndarray\n",
    "    @property\n",
    "    def kwargs(self):\n",
    "        return {\n",
    "            'rounding' : self.rounding,\n",
    "            'overflow' : self.overflow,\n",
    "            'fixed': self.fixed\n",
    "        }\n",
    "\n",
    "    def base_repr(self, base=2, frac_point=False): # return ndarray with same shape and dtype = '<Uw' where w=self.w\n",
    "        if base == 2:\n",
    "            add_point = lambda s: s[:-self.f] + '.' + s[-self.f:] if frac_point else s\n",
    "            func = lambda i: add_point(np.binary_repr(i,width=self.w))    \n",
    "        else:\n",
    "            func = lambda i: np.base_repr(i,base=base)\n",
    "        return np.vectorize(func)(self.int)\n",
    "    @property\n",
    "    def bin(self): \n",
    "        return self.base_repr(2)\n",
    "    @property \n",
    "    def bin_(self):\n",
    "        return self.base_repr(2,frac_point=True)\n",
    "    @property\n",
    "    def hex(self):\n",
    "        return self.base_repr(16)\n",
    "\n",
    "    # overload operands    \n",
    "    def __repr__(self):\n",
    "        signed = 's' if self.signed else 'u'\n",
    "        return f'myfi-{signed}{self.w}/{self.f}: \\n' + self.ndarray.__repr__() \n",
    "    __str__ = __repr__\n",
    "    def __getitem__(self, key):\n",
    "        # let single element index of array return myfi with shape (1,) instead of base dtype element\n",
    "        return myfi(super().__getitem__(key), like=self)\n",
    "    def __neg__(self):\n",
    "        return myfi(super().__neg__(), like=self)\n",
    "    def __pos__(self):\n",
    "        return self    \n",
    "    def __arithmeticADD__(self, func, y):\n",
    "        y = y if isinstance(y, myfi) else myfi(y, like=self)\n",
    "        i = max(self.i, y.i)\n",
    "        f = max(self.f, y.f)\n",
    "        return myfi(func(y.ndarray), self.signed|y.signed, i+f+1, f, None, False, **self.kwargs)         \n",
    "    def __arithmeticMUL__(self, func, y):\n",
    "        y = y if isinstance(y, myfi) else myfi(y, like=self)\n",
    "        return myfi(func(y.ndarray), self.signed|y.signed, self.w+y.w, self.f+y.f, None, False, **self.kwargs) \n",
    "    # arithmetic\n",
    "    __add__         = lambda self,y: self.__arithmeticADD__(super().__add__, y)\n",
    "    __radd__        = lambda self,y: self.__arithmeticADD__(super().__radd__, y)\n",
    "    __iadd__        = lambda self,y: self.__arithmeticADD__(super().__iadd__, y)\n",
    "    __sub__         = lambda self,y: self.__arithmeticADD__(super().__sub__, y)\n",
    "    __rsub__        = lambda self,y: self.__arithmeticADD__(super().__rsub__, y)\n",
    "    __isub__        = lambda self,y: self.__arithmeticADD__(super().__isub__, y)\n",
    "    __mul__         = lambda self,y: self.__arithmeticMUL__(super().__mul__, y)\n",
    "    __rmul__        = lambda self,y: self.__arithmeticMUL__(super().__rmul__, y)\n",
    "    __imul__        = lambda self,y: self.__arithmeticMUL__(super().__imul__, y)\n",
    "    __truediv__     = lambda self,y: self.__arithmeticMUL__(super().__truediv__, y)\n",
    "    __rtruediv__    = lambda self,y: self.__arithmeticMUL__(super().__rtruediv__, y)\n",
    "    __itruediv__    = lambda self,y: self.__arithmeticMUL__(super().__itruediv__, y)\n",
    "    __floordiv__    = lambda self,y: self.__arithmeticMUL__(super().__floordiv__, y)\n",
    "    __rfloordiv__   = lambda self,y: self.__arithmeticMUL__(super().__rfloordiv__, y)\n",
    "    __ifloordiv__   = lambda self,y: self.__arithmeticMUL__(super().__ifloordiv__, y)\n",
    "    #TODO: more advance operation? (shift expand/quantize of logical operation)\n",
    "    __mod__         = lambda self,y: myfi(super().__mod__(y.view(np.ndarray)), like=self)\n",
    "    __lshift__      = lambda self,y: myfi(super().__lshift__(y.view(np.ndarray)), like=self)\n",
    "    __rshift__      = lambda self,y: myfi(super().__rshift__(y.view(np.ndarray)), like=self)\n",
    "    __and__         = lambda self,y: myfi(super().__and__(y.view(np.ndarray)), like=self) \n",
    "    __or__          = lambda self,y: myfi(super().__or__(y.view(np.ndarray)), like=self) \n",
    "    __xor__         = lambda self,y: myfi(super().__xor__(y.view(np.ndarray)), like=self) \n",
    "    __invert__      = lambda self,y: myfi(super().__invert__(y.view(np.ndarray)), like=self)\n",
    "    # comparison\n",
    "    __eq__ = lambda self,y: self.ndarray == y\n",
    "    __ne__ = lambda self,y: self.ndarray != y\n",
    "    __ge__ = lambda self,y: self.ndarray >= y\n",
    "    __gt__ = lambda self,y: self.ndarray >  y\n",
    "    __le__ = lambda self,y: self.ndarray <= y\n",
    "    __lt__ = lambda self,y: self.ndarray <  y\n",
    "    #TODO: casting\n",
    "\n",
    "\n",
    "x = np.random.rand(3,2,2)\n",
    "y = myfi(x,1,14,3) # call __new__ and __array_finalize__\n",
    "print(y.w,y.f,y.precision)\n",
    "z = y[1:]\n",
    "print(z.w,z.f,z.precision)\n",
    "q = myfi(x,like=y)\n",
    "print(q.w,q.f,q.precision)\n",
    "w = y[1,1,1]\n",
    "print(w.w,w.f,w.precision)\n",
    "# y[1,1,1] # call __array_finalize__\n",
    "# x.view(myfi) # call __array_fianlize__"
   ]
  },
  {
   "cell_type": "code",
   "execution_count": 34,
   "metadata": {},
   "outputs": [
    {
     "output_type": "stream",
     "name": "stdout",
     "text": [
      "init fx\nQ: 77\ninit fy\nQ: 1\nfx+fy\n"
     ]
    }
   ],
   "source": [
    "s = 1\n",
    "w = 15\n",
    "f = 8\n",
    "x = np.linspace(0,100,77)\n",
    "print('init fx')\n",
    "fx = myfi(x,s,w,f)\n",
    "y = 1/3\n",
    "print('init fy')\n",
    "fy = myfi(y,s,w,f+2)\n",
    "xy = x + y\n",
    "print('fx+fy')\n",
    "fxy = fx + fy\n",
    "# xyf = myfi(fx.view(np.ndarray)+y, s,w+1,f)\n",
    "# print(fxy == xyf)\n",
    "# print(fxy.ndarray)"
   ]
  },
  {
   "cell_type": "code",
   "execution_count": 44,
   "metadata": {},
   "outputs": [
    {
     "output_type": "stream",
     "name": "stdout",
     "text": [
      "Q: 100\n"
     ]
    },
    {
     "output_type": "execute_result",
     "data": {
      "text/plain": [
       "myfi-s8/4: \n",
       "array([0.    , 0.1875, 0.375 , 0.625 , 0.8125, 1.    , 1.1875, 1.4375,\n",
       "       1.625 , 1.8125, 2.    , 2.25  , 2.4375, 2.625 , 2.8125, 3.    ,\n",
       "       3.25  , 3.4375, 3.625 , 3.8125, 4.0625, 4.25  , 4.4375, 4.625 ,\n",
       "       4.875 , 5.0625, 5.25  , 5.4375, 5.6875, 5.875 , 6.0625, 6.25  ,\n",
       "       6.4375, 6.6875, 6.875 , 7.0625, 7.25  , 7.5   , 7.6875, 7.875 ,\n",
       "       7.9375, 7.9375, 7.9375, 7.9375, 7.9375, 7.9375, 7.9375, 7.9375,\n",
       "       7.9375, 7.9375, 7.9375, 7.9375, 7.9375, 7.9375, 7.9375, 7.9375,\n",
       "       7.9375, 7.9375, 7.9375, 7.9375, 7.9375, 7.9375, 7.9375, 7.9375,\n",
       "       7.9375, 7.9375, 7.9375, 7.9375, 7.9375, 7.9375, 7.9375, 7.9375,\n",
       "       7.9375, 7.9375, 7.9375, 7.9375, 7.9375, 7.9375, 7.9375, 7.9375,\n",
       "       7.9375, 7.9375, 7.9375, 7.9375, 7.9375, 7.9375, 7.9375, 7.9375,\n",
       "       7.9375, 7.9375, 7.9375, 7.9375, 7.9375, 7.9375, 7.9375, 7.9375,\n",
       "       7.9375, 7.9375, 7.9375, 7.9375])"
      ]
     },
     "metadata": {},
     "execution_count": 44
    }
   ],
   "source": [
    "x = myfi(np.linspace(0,20,100),1,8,4,overflow='saturate')\n",
    "x"
   ]
  },
  {
   "cell_type": "code",
   "execution_count": 57,
   "metadata": {},
   "outputs": [],
   "source": [
    "def wrap(x, signed, n_word): \n",
    "    m = (1 << n_word)\n",
    "    if signed: \n",
    "        x = np.array(x) & (m - 1) \n",
    "        x = np.where(x < (1 << (n_word-1)), x, x | (-m)) \n",
    "    else: \n",
    "        x = np.array(x) & (m - 1) \n",
    "    return x\n",
    "def wrap2(x, signed, n_word):\n",
    "    m = (1 << n_word)\n",
    "    if signed: \n",
    "        x &= (m - 1) \n",
    "        x[x>(1 << (n_word-1))] |= (-m)\n",
    "    else: \n",
    "        x &= (m - 1) \n",
    "    return xx\n"
   ]
  },
  {
   "cell_type": "code",
   "execution_count": 61,
   "metadata": {},
   "outputs": [],
   "source": [
    "x = np.arange(-150,150, dtype=int)\n",
    "# %timeit wrap(x,1,8)\n",
    "# %timeit wrap2(x,1,8)"
   ]
  },
  {
   "cell_type": "code",
   "execution_count": 64,
   "metadata": {},
   "outputs": [
    {
     "output_type": "execute_result",
     "data": {
      "text/plain": [
       "array([-150, -149, -148, -147, -146, -145, -144, -143, -142, -141, -140,\n",
       "       -139, -138, -137, -136, -135, -134, -133, -132, -131, -130, -129,\n",
       "       -128, -127, -126, -125, -124, -123, -122, -121, -120, -119, -118,\n",
       "       -117, -116, -115, -114, -113, -112, -111, -110, -109, -108, -107,\n",
       "       -106, -105, -104, -103, -102, -101, -100,  -99,  -98,  -97,  -96,\n",
       "        -95,  -94,  -93,  -92,  -91,  -90,  -89,  -88,  -87,  -86,  -85,\n",
       "        -84,  -83,  -82,  -81,  -80,  -79,  -78,  -77,  -76,  -75,  -74,\n",
       "        -73,  -72,  -71,  -70,  -69,  -68,  -67,  -66,  -65,  -64,  -63,\n",
       "        -62,  -61,  -60,  -59,  -58,  -57,  -56,  -55,  -54,  -53,  -52,\n",
       "        -51,  -50,  -49,  -48,  -47,  -46,  -45,  -44,  -43,  -42,  -41,\n",
       "        -40,  -39,  -38,  -37,  -36,  -35,  -34,  -33,  -32,  -31,  -30,\n",
       "        -29,  -28,  -27,  -26,  -25,  -24,  -23,  -22,  -21,  -20,  -19,\n",
       "        -18,  -17,  -16,  -15,  -14,  -13,  -12,  -11,  -10,   -9,   -8,\n",
       "         -7,   -6,   -5,   -4,   -3,   -2,   -1,    0,    1,    2,    3,\n",
       "          4,    5,    6,    7,    8,    9,   10,   11,   12,   13,   14,\n",
       "         15,   16,   17,   18,   19,   20,   21,   22,   23,   24,   25,\n",
       "         26,   27,   28,   29,   30,   31,   32,   33,   34,   35,   36,\n",
       "         37,   38,   39,   40,   41,   42,   43,   44,   45,   46,   47,\n",
       "         48,   49,   50,   51,   52,   53,   54,   55,   56,   57,   58,\n",
       "         59,   60,   61,   62,   63,   64,   65,   66,   67,   68,   69,\n",
       "         70,   71,   72,   73,   74,   75,   76,   77,   78,   79,   80,\n",
       "         81,   82,   83,   84,   85,   86,   87,   88,   89,   90,   91,\n",
       "         92,   93,   94,   95,   96,   97,   98,   99,  100,  101,  102,\n",
       "        103,  104,  105,  106,  107,  108,  109,  110,  111,  112,  113,\n",
       "        114,  115,  116,  117,  118,  119,  120,  121,  122,  123,  124,\n",
       "        125,  126,  127,  128,  129,  130,  131,  132,  133,  134,  135,\n",
       "        136,  137,  138,  139,  140,  141,  142,  143,  144,  145,  146,\n",
       "        147,  148,  149])"
      ]
     },
     "metadata": {},
     "execution_count": 64
    }
   ],
   "source": [
    "m = (1 << n_word)\n",
    "upper = (1<<(n_word-1)) - 1 \n",
    "lower = -1<<n_word-1\n",
    "xx = x.copy()\n",
    "xx[xx>upper] &= m-1\n",
    "xx"
   ]
  },
  {
   "cell_type": "code",
   "execution_count": 67,
   "metadata": {},
   "outputs": [
    {
     "output_type": "execute_result",
     "data": {
      "text/plain": [
       "array([ 106,  107,  108,  109,  110,  111,  112,  113,  114,  115,  116,\n",
       "        117,  118,  119,  120,  121,  122,  123,  124,  125,  126,  127,\n",
       "       -128, -127, -126, -125, -124, -123, -122, -121, -120, -119, -118,\n",
       "       -117, -116, -115, -114, -113, -112, -111, -110, -109, -108, -107,\n",
       "       -106, -105, -104, -103, -102, -101, -100,  -99,  -98,  -97,  -96,\n",
       "        -95,  -94,  -93,  -92,  -91,  -90,  -89,  -88,  -87,  -86,  -85,\n",
       "        -84,  -83,  -82,  -81,  -80,  -79,  -78,  -77,  -76,  -75,  -74,\n",
       "        -73,  -72,  -71,  -70,  -69,  -68,  -67,  -66,  -65,  -64,  -63,\n",
       "        -62,  -61,  -60,  -59,  -58,  -57,  -56,  -55,  -54,  -53,  -52,\n",
       "        -51,  -50,  -49,  -48,  -47,  -46,  -45,  -44,  -43,  -42,  -41,\n",
       "        -40,  -39,  -38,  -37,  -36,  -35,  -34,  -33,  -32,  -31,  -30,\n",
       "        -29,  -28,  -27,  -26,  -25,  -24,  -23,  -22,  -21,  -20,  -19,\n",
       "        -18,  -17,  -16,  -15,  -14,  -13,  -12,  -11,  -10,   -9,   -8,\n",
       "         -7,   -6,   -5,   -4,   -3,   -2,   -1,    0,    1,    2,    3,\n",
       "          4,    5,    6,    7,    8,    9,   10,   11,   12,   13,   14,\n",
       "         15,   16,   17,   18,   19,   20,   21,   22,   23,   24,   25,\n",
       "         26,   27,   28,   29,   30,   31,   32,   33,   34,   35,   36,\n",
       "         37,   38,   39,   40,   41,   42,   43,   44,   45,   46,   47,\n",
       "         48,   49,   50,   51,   52,   53,   54,   55,   56,   57,   58,\n",
       "         59,   60,   61,   62,   63,   64,   65,   66,   67,   68,   69,\n",
       "         70,   71,   72,   73,   74,   75,   76,   77,   78,   79,   80,\n",
       "         81,   82,   83,   84,   85,   86,   87,   88,   89,   90,   91,\n",
       "         92,   93,   94,   95,   96,   97,   98,   99,  100,  101,  102,\n",
       "        103,  104,  105,  106,  107,  108,  109,  110,  111,  112,  113,\n",
       "        114,  115,  116,  117,  118,  119,  120,  121,  122,  123,  124,\n",
       "        125,  126,  127, -128, -127, -126, -125, -124, -123, -122, -121,\n",
       "       -120, -119, -118, -117, -116, -115, -114, -113, -112, -111, -110,\n",
       "       -109, -108, -107], dtype=int8)"
      ]
     },
     "metadata": {},
     "execution_count": 67
    }
   ],
   "source": [
    "np.int8(x)"
   ]
  },
  {
   "cell_type": "code",
   "execution_count": 69,
   "metadata": {},
   "outputs": [
    {
     "output_type": "execute_result",
     "data": {
      "text/plain": [
       "array([-150, -149, -148, -147, -146, -145, -144, -143, -142, -141, -140,\n",
       "       -139, -138, -137, -136, -135, -134, -133, -132, -131, -130, -129,\n",
       "       -128, -127, -126, -125, -124, -123, -122, -121, -120, -119, -118,\n",
       "       -117, -116, -115, -114, -113, -112, -111, -110, -109, -108, -107,\n",
       "       -106, -105, -104, -103, -102, -101, -100,  -99,  -98,  -97,  -96,\n",
       "        -95,  -94,  -93,  -92,  -91,  -90,  -89,  -88,  -87,  -86,  -85,\n",
       "        -84,  -83,  -82,  -81,  -80,  -79,  -78,  -77,  -76,  -75,  -74,\n",
       "        -73,  -72,  -71,  -70,  -69,  -68,  -67,  -66,  -65,  -64,  -63,\n",
       "        -62,  -61,  -60,  -59,  -58,  -57,  -56,  -55,  -54,  -53,  -52,\n",
       "        -51,  -50,  -49,  -48,  -47,  -46,  -45,  -44,  -43,  -42,  -41,\n",
       "        -40,  -39,  -38,  -37,  -36,  -35,  -34,  -33,  -32,  -31,  -30,\n",
       "        -29,  -28,  -27,  -26,  -25,  -24,  -23,  -22,  -21,  -20,  -19,\n",
       "        -18,  -17,  -16,  -15,  -14,  -13,  -12,  -11,  -10,   -9,   -8,\n",
       "         -7,   -6,   -5,   -4,   -3,   -2,   -1,    0,    1,    2,    3,\n",
       "          4,    5,    6,    7,    8,    9,   10,   11,   12,   13,   14,\n",
       "         15,   16,   17,   18,   19,   20,   21,   22,   23,   24,   25,\n",
       "         26,   27,   28,   29,   30,   31,   32,   33,   34,   35,   36,\n",
       "         37,   38,   39,   40,   41,   42,   43,   44,   45,   46,   47,\n",
       "         48,   49,   50,   51,   52,   53,   54,   55,   56,   57,   58,\n",
       "         59,   60,   61,   62,   63,   64,   65,   66,   67,   68,   69,\n",
       "         70,   71,   72,   73,   74,   75,   76,   77,   78,   79,   80,\n",
       "         81,   82,   83,   84,   85,   86,   87,   88,   89,   90,   91,\n",
       "         92,   93,   94,   95,   96,   97,   98,   99,  100,  101,  102,\n",
       "        103,  104,  105,  106,  107,  108,  109,  110,  111,  112,  113,\n",
       "        114,  115,  116,  117,  118,  119,  120,  121,  122,  123,  124,\n",
       "        125,  126,  127,  128,  129,  130,  131,  132,  133,  134,  135,\n",
       "        136,  137,  138,  139,  140,  141,  142,  143,  144,  145,  146,\n",
       "        147,  148,  149], dtype=int32)"
      ]
     },
     "metadata": {},
     "execution_count": 69
    }
   ],
   "source": [
    "x & -1"
   ]
  },
  {
   "cell_type": "code",
   "execution_count": 68,
   "metadata": {},
   "outputs": [
    {
     "output_type": "execute_result",
     "data": {
      "text/plain": [
       "-1"
      ]
     },
     "metadata": {},
     "execution_count": 68
    }
   ],
   "source": [
    "(m-1) | (-m)"
   ]
  }
 ]
}