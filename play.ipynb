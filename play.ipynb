{
 "metadata": {
  "language_info": {
   "codemirror_mode": {
    "name": "ipython",
    "version": 3
   },
   "file_extension": ".py",
   "mimetype": "text/x-python",
   "name": "python",
   "nbconvert_exporter": "python",
   "pygments_lexer": "ipython3",
   "version": "3.9.5"
  },
  "orig_nbformat": 2,
  "kernelspec": {
   "name": "python395jvsc74a57bd05f3afa2b105d207abad27474a62af0ce3dc7afbb9f1d9ed4220d4e535b248dc5",
   "display_name": "Python 3.9.5 64-bit"
  }
 },
 "nbformat": 4,
 "nbformat_minor": 2,
 "cells": [
  {
   "cell_type": "code",
   "execution_count": 1,
   "metadata": {},
   "outputs": [],
   "source": [
    "%load_ext line_profiler\n",
    "import numpy as np\n",
    "from fxpmath import Fxp\n",
    "from refactor import numfi"
   ]
  },
  {
   "cell_type": "code",
   "execution_count": 2,
   "metadata": {},
   "outputs": [
    {
     "output_type": "execute_result",
     "data": {
      "text/plain": [
       "numfi-s14/8: \n",
       "array([0.6171875 , 0.66796875, 0.09375   ])"
      ]
     },
     "metadata": {},
     "execution_count": 2
    }
   ],
   "source": [
    "q = [0.814723686393179,0.905791937075619,0.126986816293506]\n",
    "a = numfi(q,1,7,4)\n",
    "a3 = a / 1.3333\n",
    "a3"
   ]
  },
  {
   "cell_type": "code",
   "execution_count": 3,
   "metadata": {},
   "outputs": [
    {
     "output_type": "execute_result",
     "data": {
      "text/plain": [
       "True"
      ]
     },
     "metadata": {},
     "execution_count": 3
    }
   ],
   "source": [
    "np.all(a3==[0.6171875 , 0.66796875, 0.09375   ])"
   ]
  }
 ]
}