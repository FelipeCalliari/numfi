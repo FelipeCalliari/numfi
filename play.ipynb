{
 "metadata": {
  "language_info": {
   "codemirror_mode": {
    "name": "ipython",
    "version": 3
   },
   "file_extension": ".py",
   "mimetype": "text/x-python",
   "name": "python",
   "nbconvert_exporter": "python",
   "pygments_lexer": "ipython3",
   "version": "3.7.6"
  },
  "orig_nbformat": 2,
  "kernelspec": {
   "name": "python376jvsc74a57bd09913f90b107b1b695fe4fd7d22f744ec29cf5ec5efeaf63f9e87058f1fc03ae2",
   "display_name": "Python 3.7.6 64-bit (conda)"
  }
 },
 "nbformat": 4,
 "nbformat_minor": 2,
 "cells": [
  {
   "cell_type": "code",
   "execution_count": 25,
   "metadata": {},
   "outputs": [],
   "source": [
    "import numpy as np\n",
    "from fxpmath import Fxp"
   ]
  },
  {
   "cell_type": "code",
   "execution_count": 38,
   "metadata": {},
   "outputs": [
    {
     "output_type": "stream",
     "name": "stdout",
     "text": [
      "Q: 12\n14 3 0.125\nQ: 8\n14 3 0.125\nQ: 12\n14 3 0.125\nQ: 1\n14 3 0.125\n"
     ]
    }
   ],
   "source": [
    "class myfi(np.ndarray):\n",
    "    def __new__(cls, input_array, signed=1, w=32, f=16, like=None, quantize=True, **kwargs): \n",
    "        ndarray = np.asarray(input_array).view(cls)\n",
    "        if isinstance(like, myfi):\n",
    "            ndarray.config(like.kwargs)\n",
    "            ndarray.resize(like.signed, like.w, like.f, quantize)            \n",
    "        else:     \n",
    "            ndarray.config(kwargs)                       \n",
    "            ndarray.resize(signed, w, f, quantize)            \n",
    "        return ndarray\n",
    "\n",
    "    def resize(self, signed, w, f, quantize=True):\n",
    "        self.signed = signed\n",
    "        self.w = w\n",
    "        self.f = f\n",
    "        self.i = w-f\n",
    "        if self.w < self.f:\n",
    "            raise ValueError(\"fraction length > word length is not support\")\n",
    "        self.precision = 2**-self.f\n",
    "        upper = 2**(self.w - self.f - (1 if self.signed else 0))\n",
    "        self.upper = upper - self.precision \n",
    "        self.lower = -2**(self.w-self.f-1) if self.signed else 0    \n",
    "        \n",
    "        if quantize:\n",
    "            print(f'Q: {self.size}')\n",
    "            b = self.ndarray * (2**self.f)\n",
    "            if self.rounding == 'nearest':\n",
    "                store_int = np.round(b)\n",
    "            elif self.rounding == 'floor':\n",
    "                store_int = np.floor(b)\n",
    "            else:\n",
    "                raise ValueError(f'not support rounding method {self.rounding}')\n",
    "            # TODO: over/underflow\n",
    "            if self.overflow == 'warp':\n",
    "                self[...] = (store_int*self.precision)%upper # this will only reassgin array value, instead of create new myfi instance\n",
    "            elif self.overflow == 'saturate':\n",
    "                np.clip((store_int*self.precision), self.lower, self.upper, out=self)\n",
    " \n",
    "        return self\n",
    "\n",
    "    def config(self, kwargs):\n",
    "        self.rounding = kwargs.get('rounding', 'nearest')\n",
    "        self.overflow = kwargs.get('overflow', 'warp')\n",
    "        self.fixed = kwargs.get('fixed', False)\n",
    "\n",
    "    @property\n",
    "    def ndarray(self):\n",
    "        return self.view(np.ndarray)\n",
    "    @property\n",
    "    def int(self):\n",
    "        return (self.ndarray*2**self.f).astype(int) # return normal ndarray\n",
    "    @property\n",
    "    def kwargs(self):\n",
    "        return {\n",
    "            'rounding' : self.rounding,\n",
    "            'overflow' : self.overflow,\n",
    "            'fixed': self.fixed\n",
    "        }\n",
    "\n",
    "    def base_repr(self, base=2, frac_point=False): # return ndarray with same shape and dtype = '<Uw' where w=self.w\n",
    "        if base == 2:\n",
    "            add_point = lambda s: s[:-self.f] + '.' + s[-self.f:] if frac_point else s\n",
    "            func = lambda i: add_point(np.binary_repr(i,width=self.w))    \n",
    "        else:\n",
    "            func = lambda i: np.base_repr(i,base=base)\n",
    "        return np.vectorize(func)(self.int)\n",
    "    @property\n",
    "    def bin(self): \n",
    "        return self.base_repr(2)\n",
    "    @property \n",
    "    def bin_(self):\n",
    "        return self.base_repr(2,frac_point=True)\n",
    "    @property\n",
    "    def hex(self):\n",
    "        return self.base_repr(16)\n",
    "\n",
    "    # overload operands    \n",
    "    def __repr__(self):\n",
    "        signed = 's' if self.signed else 'u'\n",
    "        return f'myfi-{signed}{self.w}/{self.f}: \\n' + self.ndarray.__repr__() \n",
    "    __str__ = __repr__\n",
    "    def __getitem__(self, key):\n",
    "        # let single element index of array return myfi with shape (1,) instead of base dtype element\n",
    "        return myfi(super().__getitem__(key), like=self)\n",
    "    def __neg__(self):\n",
    "        return myfi(super().__neg__(), like=self)\n",
    "    def __pos__(self):\n",
    "        return self    \n",
    "    def __arithmeticADD__(self, func, y):\n",
    "        y = y if isinstance(y, myfi) else myfi(y, like=self)\n",
    "        i = max(self.i, y.i)\n",
    "        f = max(self.f, y.f)\n",
    "        return myfi(func(y.ndarray), self.signed|y.signed, i+f+1, f, None, False, **self.kwargs)         \n",
    "    def __arithmeticMUL__(self, func, y):\n",
    "        y = y if isinstance(y, myfi) else myfi(y, like=self)\n",
    "        return myfi(func(y.ndarray), self.signed|y.signed, self.w+y.w, self.f+y.f, None, False, **self.kwargs) \n",
    "    # arithmetic\n",
    "    __add__         = lambda self,y: self.__arithmeticADD__(super().__add__, y)\n",
    "    __radd__        = lambda self,y: self.__arithmeticADD__(super().__radd__, y)\n",
    "    __iadd__        = lambda self,y: self.__arithmeticADD__(super().__iadd__, y)\n",
    "    __sub__         = lambda self,y: self.__arithmeticADD__(super().__sub__, y)\n",
    "    __rsub__        = lambda self,y: self.__arithmeticADD__(super().__rsub__, y)\n",
    "    __isub__        = lambda self,y: self.__arithmeticADD__(super().__isub__, y)\n",
    "    __mul__         = lambda self,y: self.__arithmeticMUL__(super().__mul__, y)\n",
    "    __rmul__        = lambda self,y: self.__arithmeticMUL__(super().__rmul__, y)\n",
    "    __imul__        = lambda self,y: self.__arithmeticMUL__(super().__imul__, y)\n",
    "    __truediv__     = lambda self,y: self.__arithmeticMUL__(super().__truediv__, y)\n",
    "    __rtruediv__    = lambda self,y: self.__arithmeticMUL__(super().__rtruediv__, y)\n",
    "    __itruediv__    = lambda self,y: self.__arithmeticMUL__(super().__itruediv__, y)\n",
    "    __floordiv__    = lambda self,y: self.__arithmeticMUL__(super().__floordiv__, y)\n",
    "    __rfloordiv__   = lambda self,y: self.__arithmeticMUL__(super().__rfloordiv__, y)\n",
    "    __ifloordiv__   = lambda self,y: self.__arithmeticMUL__(super().__ifloordiv__, y)\n",
    "    # comparison\n",
    "    __eq__ = lambda self,y: self.ndarray == y\n",
    "    __ne__ = lambda self,y: self.ndarray != y\n",
    "    __ge__ = lambda self,y: self.ndarray >= y\n",
    "    __gt__ = lambda self,y: self.ndarray >  y\n",
    "    __le__ = lambda self,y: self.ndarray <= y\n",
    "    __lt__ = lambda self,y: self.ndarray <  y\n",
    "    # logical TODO\n",
    "    # bit operation TODO\n",
    "\n",
    "    #TODO: casting\n",
    "\n",
    "\n",
    "x = np.random.rand(3,2,2)\n",
    "y = myfi(x,1,14,3) # call __new__ and __array_finalize__\n",
    "print(y.w,y.f,y.precision)\n",
    "z = y[1:]\n",
    "print(z.w,z.f,z.precision)\n",
    "q = myfi(x,like=y)\n",
    "print(q.w,q.f,q.precision)\n",
    "w = y[1,1,1]\n",
    "print(w.w,w.f,w.precision)\n",
    "# y[1,1,1] # call __array_finalize__\n",
    "# x.view(myfi) # call __array_fianlize__"
   ]
  },
  {
   "cell_type": "code",
   "execution_count": 34,
   "metadata": {},
   "outputs": [
    {
     "output_type": "stream",
     "name": "stdout",
     "text": [
      "init fx\nQ: 77\ninit fy\nQ: 1\nfx+fy\n"
     ]
    }
   ],
   "source": [
    "s = 1\n",
    "w = 15\n",
    "f = 8\n",
    "x = np.linspace(0,100,77)\n",
    "print('init fx')\n",
    "fx = myfi(x,s,w,f)\n",
    "y = 1/3\n",
    "print('init fy')\n",
    "fy = myfi(y,s,w,f+2)\n",
    "xy = x + y\n",
    "print('fx+fy')\n",
    "fxy = fx + fy\n",
    "# xyf = myfi(fx.view(np.ndarray)+y, s,w+1,f)\n",
    "# print(fxy == xyf)\n",
    "# print(fxy.ndarray)"
   ]
  },
  {
   "cell_type": "code",
   "execution_count": 44,
   "metadata": {},
   "outputs": [
    {
     "output_type": "stream",
     "name": "stdout",
     "text": [
      "Q: 100\n"
     ]
    },
    {
     "output_type": "execute_result",
     "data": {
      "text/plain": [
       "myfi-s8/4: \n",
       "array([0.    , 0.1875, 0.375 , 0.625 , 0.8125, 1.    , 1.1875, 1.4375,\n",
       "       1.625 , 1.8125, 2.    , 2.25  , 2.4375, 2.625 , 2.8125, 3.    ,\n",
       "       3.25  , 3.4375, 3.625 , 3.8125, 4.0625, 4.25  , 4.4375, 4.625 ,\n",
       "       4.875 , 5.0625, 5.25  , 5.4375, 5.6875, 5.875 , 6.0625, 6.25  ,\n",
       "       6.4375, 6.6875, 6.875 , 7.0625, 7.25  , 7.5   , 7.6875, 7.875 ,\n",
       "       7.9375, 7.9375, 7.9375, 7.9375, 7.9375, 7.9375, 7.9375, 7.9375,\n",
       "       7.9375, 7.9375, 7.9375, 7.9375, 7.9375, 7.9375, 7.9375, 7.9375,\n",
       "       7.9375, 7.9375, 7.9375, 7.9375, 7.9375, 7.9375, 7.9375, 7.9375,\n",
       "       7.9375, 7.9375, 7.9375, 7.9375, 7.9375, 7.9375, 7.9375, 7.9375,\n",
       "       7.9375, 7.9375, 7.9375, 7.9375, 7.9375, 7.9375, 7.9375, 7.9375,\n",
       "       7.9375, 7.9375, 7.9375, 7.9375, 7.9375, 7.9375, 7.9375, 7.9375,\n",
       "       7.9375, 7.9375, 7.9375, 7.9375, 7.9375, 7.9375, 7.9375, 7.9375,\n",
       "       7.9375, 7.9375, 7.9375, 7.9375])"
      ]
     },
     "metadata": {},
     "execution_count": 44
    }
   ],
   "source": [
    "x = myfi(np.linspace(0,20,100),1,8,4,overflow='saturate')\n",
    "x"
   ]
  },
  {
   "cell_type": "code",
   "execution_count": 37,
   "metadata": {},
   "outputs": [],
   "source": [
    "def wrap(x, signed, n_word): \n",
    "    m = (1 << n_word)\n",
    "    if signed: \n",
    "        x = np.array(x).astype(int) & (m - 1) \n",
    "        x = np.where(x < (1 << (n_word-1)), x, x | (-m)) \n",
    "    else: \n",
    "        x = np.array(x).astype(int) & (m - 1) \n",
    "    return x"
   ]
  },
  {
   "cell_type": "code",
   "execution_count": 58,
   "metadata": {},
   "outputs": [
    {
     "output_type": "stream",
     "name": "stdout",
     "text": [
      "163 µs ± 2.24 µs per loop (mean ± std. dev. of 7 runs, 10000 loops each)\n",
      "734 µs ± 2 µs per loop (mean ± std. dev. of 7 runs, 1000 loops each)\n"
     ]
    }
   ],
   "source": [
    "x = np.linspace(0,20,100000)\n",
    "up=10\n",
    "down=1\n",
    "def foo():    \n",
    "    a = x.copy()\n",
    "    a[x>up] = up\n",
    "    a[x<down] = down\n",
    "def bar():\n",
    "    x.clip(up,down)\n",
    "%timeit foo()\n",
    "%timeit bar()\n",
    "\n"
   ]
  },
  {
   "cell_type": "code",
   "execution_count": 56,
   "metadata": {},
   "outputs": [
    {
     "output_type": "stream",
     "text": [
      "Timer unit: 2.43802e-07 s\n",
      "\n",
      "Total time: 0.000344492 s\n",
      "File: <ipython-input-55-dd93ecad2cbf>\n",
      "Function: foo at line 4\n",
      "\n",
      "Line #      Hits         Time  Per Hit   % Time  Line Contents\n",
      "==============================================================\n",
      "     4                                           def foo():    \n",
      "     5         1        659.0    659.0     46.6      x[x>up] = up\n",
      "     6         1        754.0    754.0     53.4      x[x<down] = down"
     ],
     "name": "stdout"
    }
   ],
   "source": [
    "%lprun -f foo foo()\n"
   ]
  },
  {
   "cell_type": "code",
   "execution_count": 57,
   "metadata": {},
   "outputs": [
    {
     "output_type": "stream",
     "text": [
      "Timer unit: 2.43802e-07 s\n",
      "\n",
      "Total time: 0.000890365 s\n",
      "File: <ipython-input-55-dd93ecad2cbf>\n",
      "Function: bar at line 7\n",
      "\n",
      "Line #      Hits         Time  Per Hit   % Time  Line Contents\n",
      "==============================================================\n",
      "     7                                           def bar():\n",
      "     8         1       3652.0   3652.0    100.0      x.clip(up,down,out=x)"
     ],
     "name": "stdout"
    }
   ],
   "source": [
    "%lprun -f bar bar()"
   ]
  },
  {
   "cell_type": "code",
   "execution_count": null,
   "metadata": {},
   "outputs": [],
   "source": []
  }
 ]
}